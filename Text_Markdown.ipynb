{
 "cells": [
  {
   "cell_type": "markdown",
   "id": "5c3af145-1136-4d0a-8358-5448e2f522a6",
   "metadata": {},
   "source": [
    "# Steps to Convert Plain Text to Markdown "
   ]
  },
  {
   "cell_type": "markdown",
   "id": "8a8b9dd6-c02f-4d65-92d5-060013ead4c6",
   "metadata": {},
   "source": [
    "# Paragraphs: \n",
    " Use a blank line to separate paragraphs. (To create a new paragraph, simply leave a blank line between blocks of text.)\n",
    "\n",
    "# Line Breaks:\n",
    " Use two or more spaces at the end of a line to create a line break."
   ]
  },
  {
   "cell_type": "markdown",
   "id": "80512cce-b3c6-482e-8db0-51ed69d6fff8",
   "metadata": {},
   "source": [
    "# Paragraphs Example:\n",
    "\n",
    "This is the first paragraph.\n",
    "\n",
    "This is the second paragraph.\n",
    "\n",
    "\n",
    "# Line Breaks Example\n",
    "\n",
    "This is the first line.  \n",
    "And this is the second line."
   ]
  },
  {
   "cell_type": "markdown",
   "id": "60d63cfc-3bce-4b89-9efc-c9d3b1f26cbc",
   "metadata": {},
   "source": [
    "## Escape the Dash: Add a backslash before the dash."
   ]
  },
  {
   "cell_type": "markdown",
   "id": "48a7afa8-a81b-4022-934d-a97d661defb4",
   "metadata": {},
   "source": [
    "Add a backslash before the dash Example:\n",
    "\n",
    "Here is a list of tasks:\n",
    "\\- Another task to complete\n",
    "\n",
    "This will render as: \n",
    "Here is a list of tasks: \n",
    "- Another task to complete"
   ]
  },
  {
   "cell_type": "markdown",
   "id": "f50c55f9-bd9e-4a43-ac47-4917875bf721",
   "metadata": {},
   "source": [
    "# URLs and Email Addresses"
   ]
  },
  {
   "cell_type": "markdown",
   "id": "038eaba5-bdeb-437a-b55f-f577b39ee487",
   "metadata": {},
   "source": [
    "URLs and Email Addresses\n",
    "\n",
    "To quickly turn a URL or email address into a link, enclose it in angle brackets.\n",
    "\n",
    "<https://www.google.com>\n",
    "<abc@example.com>\n",
    "\n",
    "The rendered output looks like this:\n",
    "\n",
    "https://www.google.com\n",
    "abc@example.com"
   ]
  },
  {
   "cell_type": "markdown",
   "id": "8004ea46-4b7d-452c-a787-989a6faffbc5",
   "metadata": {},
   "source": [
    "# Lists: "
   ]
  },
  {
   "cell_type": "markdown",
   "id": "b1e6765b-a6e0-4573-8e26-6d01ba446171",
   "metadata": {},
   "source": [
    "Ordered List\n",
    "\n",
    "1. First item\n",
    "2. Second item\n",
    "3. Third item"
   ]
  },
  {
   "cell_type": "markdown",
   "id": "ac175db7-f01c-49c7-ba3d-78e1c64a1fe8",
   "metadata": {},
   "source": [
    "Unordered List\n",
    "\n",
    "- First item\n",
    "- Second item\n",
    "- Third item"
   ]
  },
  {
   "cell_type": "markdown",
   "id": "bc0faf7e-3769-4f53-915a-50fb229ef226",
   "metadata": {},
   "source": [
    "# Render the Markdown: \n",
    "**Change the below cell type to Markdown and press Shift + Enter to render.**"
   ]
  },
  {
   "cell_type": "markdown",
   "id": "c15ebb60-4efc-467c-bfa3-b2c9d09f7d99",
   "metadata": {},
   "source": [
    "# Copy and paste your plain text to the below cell"
   ]
  },
  {
   "cell_type": "code",
   "execution_count": null,
   "id": "55b3056f-5eba-42f1-99c9-4799825dbb98",
   "metadata": {},
   "outputs": [],
   "source": []
  },
  {
   "cell_type": "markdown",
   "id": "5a0bff2e-f2cf-46cc-871f-c95163cf4195",
   "metadata": {},
   "source": [
    "**Please leave the above cell as a blank cell after render the markdown.** "
   ]
  }
 ],
 "metadata": {
  "kernelspec": {
   "display_name": "Python 3 (ipykernel)",
   "language": "python",
   "name": "python3"
  },
  "language_info": {
   "codemirror_mode": {
    "name": "ipython",
    "version": 3
   },
   "file_extension": ".py",
   "mimetype": "text/x-python",
   "name": "python",
   "nbconvert_exporter": "python",
   "pygments_lexer": "ipython3",
   "version": "3.12.4"
  }
 },
 "nbformat": 4,
 "nbformat_minor": 5
}
