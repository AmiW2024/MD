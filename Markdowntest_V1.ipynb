{
 "cells": [
  {
   "cell_type": "code",
   "execution_count": 29,
   "id": "ce7df59d-66fc-43b0-8fd0-339342a6c263",
   "metadata": {},
   "outputs": [],
   "source": [
    "import ipywidgets as widgets\n",
    "from IPython.display import display, Markdown\n",
    "import markdownify"
   ]
  },
  {
   "cell_type": "markdown",
   "id": "fdac9b00-f2e8-46d2-9204-9a430018d43f",
   "metadata": {},
   "source": [
    "Copy and paste your plain text between \"\"\"                                \"\"\""
   ]
  },
  {
   "cell_type": "code",
   "execution_count": 32,
   "id": "3b5ed08e-59ff-429b-aad7-84afd17ba64b",
   "metadata": {},
   "outputs": [],
   "source": [
    "plain_text = \"\"\"\n",
    "Dear user,\n",
    "\n",
    "This is an example of plain text that you want to convert to Markdown format.\n",
    "\"\"\""
   ]
  },
  {
   "cell_type": "code",
   "execution_count": 24,
   "id": "94a3e12d-f8a5-4e91-b067-3901b994d823",
   "metadata": {},
   "outputs": [
    {
     "data": {
      "application/vnd.jupyter.widget-view+json": {
       "model_id": "ce873c3bf38e43fda5995fc513017925",
       "version_major": 2,
       "version_minor": 0
      },
      "text/plain": [
       "Button(description='Convert to Markdown', style=ButtonStyle())"
      ]
     },
     "metadata": {},
     "output_type": "display_data"
    },
    {
     "data": {
      "text/markdown": [
       "\n",
       "Dear user,\n",
       "\n",
       "This is an example of plain text that you want to convert to Markdown format.\n"
      ],
      "text/plain": [
       "<IPython.core.display.Markdown object>"
      ]
     },
     "metadata": {},
     "output_type": "display_data"
    }
   ],
   "source": [
    "def convert_to_markdown(button):\n",
    "    global md_content\n",
    "    md_content = markdownify.markdownify(plain_text, heading_style=\"ATX\")\n",
    "    display(Markdown(md_content))\n",
    "\n",
    "convert_button = widgets.Button(description=\"Convert to Markdown\")\n",
    "convert_button.on_click(convert_to_markdown)\n",
    "display(convert_button)\n",
    "\n",
    "# Display the converted Markdown content\n",
    "display(Markdown(md_content))"
   ]
  },
  {
   "cell_type": "code",
   "execution_count": null,
   "id": "808555e0-3cc0-4fdc-937f-f261a49571c3",
   "metadata": {
    "collapsed": true,
    "jupyter": {
     "outputs_hidden": true,
     "source_hidden": true
    }
   },
   "outputs": [],
   "source": []
  }
 ],
 "metadata": {
  "kernelspec": {
   "display_name": "Python 3 (ipykernel)",
   "language": "python",
   "name": "python3"
  },
  "language_info": {
   "codemirror_mode": {
    "name": "ipython",
    "version": 3
   },
   "file_extension": ".py",
   "mimetype": "text/x-python",
   "name": "python",
   "nbconvert_exporter": "python",
   "pygments_lexer": "ipython3",
   "version": "3.12.3"
  }
 },
 "nbformat": 4,
 "nbformat_minor": 5
}
